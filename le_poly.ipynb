{
 "cells": [
  {
   "cell_type": "markdown",
   "metadata": {},
   "source": [
    "# Computation of the pullback of the complex gradient of a function to its resolution"
   ]
  },
  {
   "cell_type": "markdown",
   "metadata": {},
   "source": [
    "Set variables that we are going to use (it's important to tell sage that these are complex variables so that the method ``simplify_full()´´ works well"
   ]
  },
  {
   "cell_type": "code",
   "execution_count": 1,
   "metadata": {},
   "outputs": [
    {
     "data": {
      "text/plain": [
       "(u, v, x, y)"
      ]
     },
     "execution_count": 1,
     "metadata": {},
     "output_type": "execute_result"
    }
   ],
   "source": [
    "var('u v x y', domain='complex')"
   ]
  },
  {
   "cell_type": "markdown",
   "metadata": {},
   "source": [
    "We have $3$ sections. First we define the simplest function which does not invoke the Hessian. Then we define the \"complicated\" method using the Hessian. In the final section we have a step-by-step record of the computations to keep track of mistakes."
   ]
  },
  {
   "cell_type": "markdown",
   "metadata": {},
   "source": [
    "## 1. Easy function (without Hessian)"
   ]
  },
  {
   "cell_type": "markdown",
   "metadata": {},
   "source": [
    "It's pretty much selfdescriptive"
   ]
  },
  {
   "cell_type": "code",
   "execution_count": 2,
   "metadata": {},
   "outputs": [],
   "source": [
    "def pullback(f, p):\n",
    "    g=f(p[0],p[1]);\n",
    "    J=jacobian(p,(u,v));\n",
    "    W = (conjugate(f)^(-1))*(matrix(SR, 2, [conjugate(diff(f,x)),conjugate(diff(f,y))]));\n",
    "    L=J(u,v)^(-1)*W(p[0],p[1]);\n",
    "    return L.simplify_full()"
   ]
  },
  {
   "cell_type": "markdown",
   "metadata": {},
   "source": [
    "### Example"
   ]
  },
  {
   "cell_type": "markdown",
   "metadata": {},
   "source": [
    "Note that one must define $f$ and $p$ independently. That is, calling something like pullback(x^3+y^2, p) does not work (not sure why)."
   ]
  },
  {
   "cell_type": "markdown",
   "metadata": {},
   "source": [
    "Set the function whose gradient is our target"
   ]
  },
  {
   "cell_type": "code",
   "execution_count": 66,
   "metadata": {},
   "outputs": [],
   "source": [
    "f(x,y)= x^3+y^4;"
   ]
  },
  {
   "cell_type": "markdown",
   "metadata": {},
   "source": [
    "Fix the transformation (monomial or not)"
   ]
  },
  {
   "cell_type": "code",
   "execution_count": 76,
   "metadata": {},
   "outputs": [],
   "source": [
    "p(u,v)=(u^2*v,u^3*v^2);"
   ]
  },
  {
   "cell_type": "markdown",
   "metadata": {},
   "source": [
    "Call the function, store the resulting vector in $V$ and print it"
   ]
  },
  {
   "cell_type": "code",
   "execution_count": 77,
   "metadata": {},
   "outputs": [
    {
     "name": "stdout",
     "output_type": "stream",
     "text": [
      "[-2*(2*conjugate(u)^5*conjugate(v)^4 - 3*u*v)/(u^2*v^2*conjugate(u)^8*conjugate(v)^6 + u^2*v^2*conjugate(u)^2*conjugate(v))]\n",
      "[       (8*conjugate(u)^5*conjugate(v)^4 - 9*u*v)/(u^3*v*conjugate(u)^8*conjugate(v)^6 + u^3*v*conjugate(u)^2*conjugate(v))]\n"
     ]
    }
   ],
   "source": [
    "V=pullback(f,p);\n",
    "print(V);"
   ]
  },
  {
   "cell_type": "markdown",
   "metadata": {},
   "source": [
    "We can extract the denominator of the first entry of the vector and factorize it"
   ]
  },
  {
   "cell_type": "code",
   "execution_count": 78,
   "metadata": {},
   "outputs": [
    {
     "data": {
      "text/plain": [
       "(conjugate(u)^6*conjugate(v)^5 + 1)*u^2*v^2*conjugate(u)^2*conjugate(v)"
      ]
     },
     "execution_count": 78,
     "metadata": {},
     "output_type": "execute_result"
    }
   ],
   "source": [
    "factor(V[0,0].denominator())"
   ]
  },
  {
   "cell_type": "markdown",
   "metadata": {},
   "source": [
    "The same for the second entry"
   ]
  },
  {
   "cell_type": "code",
   "execution_count": 79,
   "metadata": {},
   "outputs": [
    {
     "data": {
      "text/plain": [
       "(conjugate(u)^6*conjugate(v)^5 + 1)*u^3*v*conjugate(u)^2*conjugate(v)"
      ]
     },
     "execution_count": 79,
     "metadata": {},
     "output_type": "execute_result"
    }
   ],
   "source": [
    "factor(V[1,0].denominator())"
   ]
  },
  {
   "cell_type": "markdown",
   "metadata": {},
   "source": [
    "And extract the common factor"
   ]
  },
  {
   "cell_type": "code",
   "execution_count": 82,
   "metadata": {},
   "outputs": [
    {
     "name": "stdout",
     "output_type": "stream",
     "text": [
      "(conjugate(u)^6*conjugate(v)^5 + 1)*u^2*v*conjugate(u)^2*conjugate(v)\n"
     ]
    }
   ],
   "source": [
    "common_denominator = gcd(factor(V[0,0].denominator()),factor(V[1,0].denominator()));\n",
    "print(common_denominator);"
   ]
  },
  {
   "cell_type": "markdown",
   "metadata": {},
   "source": [
    "Now we have a nice expression of the vector field as $1$ over the denominator above times the following nice column vector"
   ]
  },
  {
   "cell_type": "code",
   "execution_count": 97,
   "metadata": {},
   "outputs": [
    {
     "name": "stdout",
     "output_type": "stream",
     "text": [
      "[-2*(2*conjugate(u)^5*conjugate(v)^4 - 3*u*v)/v]\n",
      "[   (8*conjugate(u)^5*conjugate(v)^4 - 9*u*v)/u]\n"
     ]
    }
   ],
   "source": [
    "print((common_denominator*V).simplify_full())"
   ]
  },
  {
   "cell_type": "markdown",
   "metadata": {},
   "source": [
    "Notice the only denominators inside the vector are only $v$ and $u$ !"
   ]
  },
  {
   "cell_type": "markdown",
   "metadata": {},
   "source": [
    "## 2. More complicated function using the Hessian"
   ]
  },
  {
   "cell_type": "code",
   "execution_count": 72,
   "metadata": {},
   "outputs": [],
   "source": [
    "def pullback_c(f, p):\n",
    "    g=f(p[0],p[1]);\n",
    "    J=jacobian(p,(u,v));\n",
    "    H=((J.H)*J);\n",
    "    V=matrix(SR, 2, [conjugate(diff(g,u)),conjugate(diff(g,v))])\n",
    "    G = (conjugate(g)^(-1))*(H^(-1)*V)\n",
    "    return (G(u,v)).simplify_full()"
   ]
  },
  {
   "cell_type": "markdown",
   "metadata": {},
   "source": [
    "Recall to define f and p before calling"
   ]
  },
  {
   "cell_type": "code",
   "execution_count": 73,
   "metadata": {},
   "outputs": [],
   "source": [
    "f(x,y)= x^3+y^4;\n",
    "p(u,v)=(u^2*v,u^3*v^2);"
   ]
  },
  {
   "cell_type": "markdown",
   "metadata": {},
   "source": [
    "You can see it takes considerably more time to run this other function"
   ]
  },
  {
   "cell_type": "code",
   "execution_count": 74,
   "metadata": {},
   "outputs": [
    {
     "data": {
      "text/plain": [
       "[-2*(2*conjugate(u)^5*conjugate(v)^4 - 3*u*v)/(u^2*v^2*conjugate(u)^8*conjugate(v)^6 + u^2*v^2*conjugate(u)^2*conjugate(v))]\n",
       "[       (8*conjugate(u)^5*conjugate(v)^4 - 9*u*v)/(u^3*v*conjugate(u)^8*conjugate(v)^6 + u^3*v*conjugate(u)^2*conjugate(v))]"
      ]
     },
     "execution_count": 74,
     "metadata": {},
     "output_type": "execute_result"
    }
   ],
   "source": [
    "pullback_c(f,p)"
   ]
  },
  {
   "cell_type": "markdown",
   "metadata": {},
   "source": [
    "Now we can check that both functions coincide :)"
   ]
  },
  {
   "cell_type": "code",
   "execution_count": 75,
   "metadata": {},
   "outputs": [
    {
     "data": {
      "text/plain": [
       "True"
      ]
     },
     "execution_count": 75,
     "metadata": {},
     "output_type": "execute_result"
    }
   ],
   "source": [
    "pullback(f,p)==pullback_c(f,p)"
   ]
  },
  {
   "cell_type": "markdown",
   "metadata": {},
   "source": [
    "## 3. Step-by-step (in case one wants to keep track of errors in handmade computations)"
   ]
  },
  {
   "cell_type": "markdown",
   "metadata": {},
   "source": [
    "Here we just have a step-by-step computation of all the function appearing above in case one wants to keep track of errors"
   ]
  },
  {
   "cell_type": "markdown",
   "metadata": {},
   "source": [
    "Fix f and p"
   ]
  },
  {
   "cell_type": "code",
   "execution_count": 160,
   "metadata": {},
   "outputs": [],
   "source": [
    "f(x,y)= x^3+y^4;\n",
    "p(u,v)=(u^2*v,u^3*v^2);"
   ]
  },
  {
   "cell_type": "markdown",
   "metadata": {},
   "source": [
    "Set the function g as the pullback of f by p (and print its factorization)"
   ]
  },
  {
   "cell_type": "code",
   "execution_count": 161,
   "metadata": {},
   "outputs": [
    {
     "name": "stdout",
     "output_type": "stream",
     "text": [
      "(u^6*v^5 + 1)*u^6*v^3\n"
     ]
    }
   ],
   "source": [
    "g=f(p[0],p[1]);\n",
    "print(g.factor());"
   ]
  },
  {
   "cell_type": "markdown",
   "metadata": {},
   "source": [
    "Compute the jacobian of the monomial transformation (and print it)"
   ]
  },
  {
   "cell_type": "code",
   "execution_count": 162,
   "metadata": {},
   "outputs": [
    {
     "name": "stdout",
     "output_type": "stream",
     "text": [
      "[    (u, v) |--> 2*u*v       (u, v) |--> u^2]\n",
      "[(u, v) |--> 3*u^2*v^2   (u, v) |--> 2*u^3*v]\n"
     ]
    }
   ],
   "source": [
    "J=jacobian(p,(u,v))\n",
    "print(J)"
   ]
  },
  {
   "cell_type": "markdown",
   "metadata": {},
   "source": [
    "Compute the complex gradient of f in the original space as a $2 \\times 1$ symbolic matrix (and print it)"
   ]
  },
  {
   "cell_type": "code",
   "execution_count": 163,
   "metadata": {},
   "outputs": [
    {
     "name": "stdout",
     "output_type": "stream",
     "text": [
      "[3*conjugate(x)^2/(conjugate(y)^4 + conjugate(x)^3)]\n",
      "[4*conjugate(y)^3/(conjugate(y)^4 + conjugate(x)^3)]\n"
     ]
    }
   ],
   "source": [
    "W = (conjugate(f)^(-1))*(matrix(SR, 2, [conjugate(diff(f,x)),conjugate(diff(f,y))]))\n",
    "print(W(x,y).simplify_full())"
   ]
  },
  {
   "cell_type": "markdown",
   "metadata": {},
   "source": [
    "Compute the pullback of the vector field by precomposing by $p$ and multiplying by the inverse of the jacobian"
   ]
  },
  {
   "cell_type": "code",
   "execution_count": 164,
   "metadata": {},
   "outputs": [],
   "source": [
    "L=J(u,v)^(-1)*W(p[0],p[1]);"
   ]
  },
  {
   "cell_type": "code",
   "execution_count": 165,
   "metadata": {},
   "outputs": [],
   "source": [
    "H=((J.H)*J);"
   ]
  },
  {
   "cell_type": "code",
   "execution_count": 166,
   "metadata": {},
   "outputs": [
    {
     "name": "stdout",
     "output_type": "stream",
     "text": [
      "[(u, v) |--> 9*u^2*v^2*conjugate(u)^2*conjugate(v)^2 + 4*u*v*conjugate(u)*conjugate(v)   (u, v) |--> 6*u^3*v*conjugate(u)^2*conjugate(v)^2 + 2*u^2*conjugate(u)*conjugate(v)]\n",
      "[             (u, v) |--> 6*u^2*v^2*conjugate(u)^3*conjugate(v) + 2*u*v*conjugate(u)^2                  (u, v) |--> 4*u^3*v*conjugate(u)^3*conjugate(v) + u^2*conjugate(u)^2]\n"
     ]
    }
   ],
   "source": [
    "print(H)"
   ]
  },
  {
   "cell_type": "code",
   "execution_count": null,
   "metadata": {},
   "outputs": [],
   "source": []
  }
 ],
 "metadata": {
  "kernelspec": {
   "display_name": "SageMath 9.3.beta5",
   "language": "sage",
   "name": "sagemath"
  },
  "language_info": {
   "codemirror_mode": {
    "name": "ipython",
    "version": 3
   },
   "file_extension": ".py",
   "mimetype": "text/x-python",
   "name": "python",
   "nbconvert_exporter": "python",
   "pygments_lexer": "ipython3",
   "version": "3.9.6"
  }
 },
 "nbformat": 4,
 "nbformat_minor": 4
}
